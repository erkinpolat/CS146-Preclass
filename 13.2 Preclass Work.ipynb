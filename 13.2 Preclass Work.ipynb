{
 "cells": [
  {
   "cell_type": "code",
   "execution_count": 11,
   "metadata": {
    "collapsed": false
   },
   "outputs": [
   ],
   "source": [
    "import scipy.stats as sts"
   ]
  },
  {
   "cell_type": "code",
   "execution_count": 16,
   "metadata": {
    "collapsed": false
   },
   "outputs": [
   ],
   "source": [
    "def target(x):\n",
    "    a = sts.norm(-4,0.5)\n",
    "    b = sts.norm(4,1)\n",
    "    return a.pdf(x) + b.pdf(x)"
   ]
  },
  {
   "cell_type": "code",
   "execution_count": 0,
   "metadata": {
    "collapsed": false
   },
   "outputs": [
   ],
   "source": [
    "def MCMC(sigma, t, theta):\n",
    "    \n",
    "    for i in range(0, t):\n",
    "        theta_0 = stats.norm(theta, sigma).rvs(size=1)\n",
    "        p_c = target(theta_0)\n",
    "        p_\n",
    "        r = propose*"
   ]
  },
  {
   "cell_type": "code",
   "execution_count": 0,
   "metadata": {
    "collapsed": false
   },
   "outputs": [
   ],
   "source": [
   ]
  },
  {
   "cell_type": "code",
   "execution_count": 0,
   "metadata": {
    "collapsed": false
   },
   "outputs": [
   ],
   "source": [
   ]
  },
  {
   "cell_type": "code",
   "execution_count": 14,
   "metadata": {
    "collapsed": false
   },
   "outputs": [
    {
     "ename": "IndentationError",
     "evalue": "expected an indented block (<ipython-input-14-b9f0fd50385a>, line 10)",
     "output_type": "error",
     "traceback": [
      "\u001b[0;36m  File \u001b[0;32m\"<ipython-input-14-b9f0fd50385a>\"\u001b[0;36m, line \u001b[0;32m10\u001b[0m\n\u001b[0;31m    '''\u001b[0m\n\u001b[0m       \n^\u001b[0m\n\u001b[0;31mIndentationError\u001b[0m\u001b[0;31m:\u001b[0m expected an indented block\n"
     ]
    }
   ],
   "source": [
    "def plot_acf(x):\n",
    "'''\n",
    "Plot the autocorrelation function for a series x. This corresponds to the\n",
    "acf() function in R. The series x is detrended by subtracting the mean of\n",
    "the series before computing the autocorrelation.\n",
    "The autocorrelation at lag = 0 is always 1 since the series is perfectly\n",
    "correlated with itself. You can ignore this value. The autocorrelation at\n",
    "all other values should be as small as possible, since independent samples\n",
    "have no correlation.\n",
    "'''\n",
    "from scipy import signal\n",
    "import matplotlib.pyplot as plt\n",
    "plt.acorr(\n",
    "x, maxlags=20, detrend=lambda x: signal.detrend(x, type='constant'))"
   ]
  },
  {
   "cell_type": "code",
   "execution_count": 0,
   "metadata": {
    "collapsed": false
   },
   "outputs": [
   ],
   "source": [
   ]
  }
 ],
 "metadata": {
  "kernelspec": {
   "display_name": "Python 3 (system-wide)",
   "language": "python",
   "metadata": {
    "cocalc": {
     "description": "Python 3 programming language",
     "priority": 100,
     "url": "https://www.python.org/"
    }
   },
   "name": "python3"
  },
  "language_info": {
   "codemirror_mode": {
    "name": "ipython",
    "version": 3
   },
   "file_extension": ".py",
   "mimetype": "text/x-python",
   "name": "python",
   "nbconvert_exporter": "python",
   "pygments_lexer": "ipython3",
   "version": "3.6.9"
  }
 },
 "nbformat": 4,
 "nbformat_minor": 0
}