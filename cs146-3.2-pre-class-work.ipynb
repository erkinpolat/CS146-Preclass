{
 "cells": [
  {
   "cell_type": "markdown",
   "metadata": {
    "collapsed": false
   },
   "source": [
    "# Making predictions and decisions with medical trial data\n",
    "\n",
    "We have data for 6 studies that have been done on the effect of *specific allergen immunotherapy* (SIT) on eczema and the following success rates have been observed. In each of the trials, the investigator rated whether each patient's condition improved or not.\n",
    "\n",
    "This data set is from the [Cochrane Database of Systematic Reviews](http://www.cochranelibrary.com/) article cited below, available for free [here](http://onlinelibrary.wiley.com/doi/10.1002/14651858.CD008774.pub2/full). The Cochrane Database is a great resource for high quality data on all sorts of medical trials.\n",
    "\n",
    "> Tam H., Calderon M.A., Manikam L., Nankervis H., García Núñez I., Williams H.C., Durham S., Boyle R.J. (2016). Specific allergen immunotherapy for the treatment of atopic eczema. *Cochrane Database of Systematic Reviews, Issue 2*. Art. No.: CD008774. DOI: 10.1002/14651858.CD008774.pub2.\n",
    "\n",
    "| Study          | Improved | Not improved |\n",
    "|:-------------- | --------:| ------------:|\n",
    "| Di Rienzo 2014 | 20       | 3            |\n",
    "| Galli 1994     | 10       | 6            |\n",
    "| Kaufman 1974   | 13       | 3            |\n",
    "| Qin 2014       | 35       | 10           |\n",
    "| Sanchez 2012   | 22       | 9            |\n",
    "| Silny 2006     | 7        | 3            |\n",
    "| **Totals**     | **107**  | **34**       |\n",
    "\n",
    "## Task 1: Modeling\n",
    "**Build a statistical model for this data set.** As your data, use the total number of patients improved (107) and not improved (34).\n",
    "\n",
    "**Steps in the modeling process:**\n",
    "1. Choose and motivate for an appropriate likelihood function for this type of data.\n",
    "    1. Make sure the support of your likelihood function matches the type of data we are working with.\n",
    "    2. Describe the unobserved parameter(s) of your model, and describe how it/they can be interpreted.\n",
    "2. Use a conjugate prior distribution for your likelihood function.\n",
    "    1. Select appropriate values for the prior hyperparameters and motivate your choice.\n",
    "    2. Visualize your prior distribution.\n",
    "3. Compute and visualize the posterior distribution over the unobserved parameter(s) of your model. Also describe what the posterior tells you about the parameter(s).\n",
    "\n",
    "Feel free to discuss this task with other students in the course, or attempt it on your own if you prefer. Discussing your modeling ideas with other students is a useful way to get feedback on your assumptions."
   ]
  },
  {
   "cell_type": "code",
   "execution_count": 2,
   "metadata": {
    "collapsed": false
   },
   "outputs": [
   ],
   "source": [
    "import numpy as np\n",
    "import matplotlib.pyplot as plt\n",
    "from scipy import stats"
   ]
  },
  {
   "cell_type": "code",
   "execution_count": 11,
   "metadata": {
    "collapsed": false
   },
   "outputs": [
    {
     "data": {
      "image/png": "[encoded data removed]",
      "text/plain": [
       "<Figure size 576x288 with 1 Axes>"
      ]
     },
     "execution_count": 11,
     "metadata": {
      "image/png": {
       "height": 263,
       "width": 480
      }
     },
     "output_type": "execute_result"
    }
   ],
   "source": [
    "#Likelihood - binomial distribution - Discrete support\n",
    "n = 107 + 34\n",
    "p = 34\n",
    "likelihood = stats.binom(n, p)\n",
    "\n",
    "\n",
    "#Conjugate Prior - Beta distribution - parameters: both 1, I wan't to start uniformly\n",
    "alpha = 1\n",
    "beta = 1\n",
    "prior = stats.beta(a=alpha, b=beta)\n",
    "plt.figure(figsize=(8, 4))\n",
    "x = np.linspace(0, 1)\n",
    "plt.plot(x, prior.pdf(x))\n",
    "plt.title('PDF for Prior and Posterior Probabilities')\n",
    "\n",
    "#Posterior distribution\n",
    "alpha_post = alpha + p\n",
    "beta_post = beta + n - p\n",
    "posterior = stats.beta(a=alpha_post, b=beta_post)\n",
    "plt.plot(x, posterior.pdf(x))\n",
    "\n",
    "plt.legend(('Prior', 'Posterior'))\n",
    "\n",
    "plt.show()"
   ]
  },
  {
   "cell_type": "markdown",
   "metadata": {
    "collapsed": false
   },
   "source": [
    "## Task 2: Questions, predictions, and decisions\n",
    "1. Posterior predictive distribution: Use your model to predict how many patients would improve if we treated 100 new eczema patients using SIT. Express your answer as a probability distribution over the number of patients improved.\n",
    "2. Use your posterior to answer these questions:\n",
    "    1. What is the probability that at least two thirds of eczema patients get better with SIT?\n",
    "    2. What is the probability that at least 75% of eczema patients get better with SIT?\n",
    "3. Use your model to decide whether the treatment works or not. Motivate your answer."
   ]
  },
  {
   "cell_type": "code",
   "execution_count": 21,
   "metadata": {
    "collapsed": false
   },
   "outputs": [
    {
     "name": "stdout",
     "output_type": "stream",
     "text": [
      "expected number of improved patients is 50.5\n",
      "At least two thirds 28.823529411764703\n",
      "At least 75% 22.55882352941176\n"
     ]
    }
   ],
   "source": [
    "from gmpy2 import comb\n",
    "\n",
    "#The posterior predictive distribution will be a beta-binomial distribution like ~ beta-binomial(N', x+a, N+b-x) = beta-binomial(100, alpha_post, beta_post)\n",
    "\n",
    "#P(X'=x|X) will be be... E[theta|x] = (x+a)/(a+b+N)\n",
    "def expected(k):\n",
    "    return ((k+1)/(1+1+100))\n",
    "\n",
    "tot = 0\n",
    "\n",
    "for i in range(101):\n",
    "    tot = tot + expected(i)\n",
    "    \n",
    "print('expected number of improved patients is', tot)\n",
    "\n",
    "#defining a beta binomial function based on the definition on wikipedia\n",
    "'''def beta_binom(N, x, a, b):\n",
    "    return comb(N, x)*stats.beta.pdf(x+a, N-x+b)/stats.beta.pdf(a, b)\n",
    "\n",
    "tot = 0\n",
    "\n",
    "for i in range(101):\n",
    "    tot = tot + beta_binom(100, i, 1, 1)*i\n",
    "print(tot)'''\n",
    "\n",
    "#2.1\n",
    "\n",
    "tot = 0\n",
    "\n",
    "for i in range(66, 101):\n",
    "    tot = tot + expected(i)\n",
    "print('At least two thirds', tot)\n",
    "\n",
    "#2.2\n",
    "tot = 0\n",
    "\n",
    "for i in range(75, 101):\n",
    "    tot = tot + expected(i)\n",
    "print('At least 75%', tot)\n"
   ]
  },
  {
   "cell_type": "code",
   "execution_count": 0,
   "metadata": {
    "collapsed": false
   },
   "outputs": [
   ],
   "source": [
   ]
  }
 ],
 "metadata": {
  "kernelspec": {
   "display_name": "Python 3 (system-wide)",
   "language": "python",
   "metadata": {
    "cocalc": {
     "description": "Python 3 programming language",
     "priority": 100,
     "url": "https://www.python.org/"
    }
   },
   "name": "python3"
  },
  "language_info": {
   "codemirror_mode": {
    "name": "ipython",
    "version": 3
   },
   "file_extension": ".py",
   "mimetype": "text/x-python",
   "name": "python",
   "nbconvert_exporter": "python",
   "pygments_lexer": "ipython3",
   "version": "3.6.8"
  }
 },
 "nbformat": 4,
 "nbformat_minor": 0
}